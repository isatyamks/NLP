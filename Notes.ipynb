{
 "cells": [
  {
   "cell_type": "code",
   "execution_count": null,
   "id": "71141ea7-e85f-4d0a-aca0-1da5b1ea5c14",
   "metadata": {},
   "outputs": [],
   "source": [
    "'''NLP components\n",
    "\n",
    "1.NLU -> Natural Language understanding\n",
    "2.NLG -> NAtural Language generation\n",
    "\n",
    "\n",
    "\n",
    "process:\n",
    "\n",
    "mapping\n",
    "then \n",
    "analyzing\n",
    "(Text Planning,Sentence Planning ,Text Realization)\n",
    "\n",
    "\n",
    "how to solve the ambiguity\n",
    "\n",
    "1. Lexical AMbiguity\n",
    "\n",
    "she is looking for a match   (which match)\n",
    "the fisherman went to the bank  (which bank)\n",
    "\n",
    "\n",
    "2.syntactic ambiguity\n",
    "\n",
    "the chicken is ready to eat (for whom)\n",
    "i saw the man with the binoculars\n",
    "\n",
    "3. Referential Ambiguity\n",
    "The boy told his father the theft he was very upset \n",
    "\n",
    "'''"
   ]
  },
  {
   "cell_type": "code",
   "execution_count": 1,
   "id": "a908c68b-0820-4acc-9a41-f7f4d2300abf",
   "metadata": {},
   "outputs": [],
   "source": [
    "#install nltk natural language toolkit "
   ]
  },
  {
   "cell_type": "code",
   "execution_count": 2,
   "id": "354acb77-850b-4f17-bb38-98e9f68a2d38",
   "metadata": {},
   "outputs": [],
   "source": [
    "#tokenization -> \n",
    "1.break a complex sentence into words\n",
    "2. understand the importance of each of the words with respect to the sente"
   ]
  },
  {
   "cell_type": "code",
   "execution_count": null,
   "id": "1884b116-1f96-481e-aaf2-8aa0ce443236",
   "metadata": {},
   "outputs": [],
   "source": []
  }
 ],
 "metadata": {
  "kernelspec": {
   "display_name": "Python 3 (ipykernel)",
   "language": "python",
   "name": "python3"
  },
  "language_info": {
   "codemirror_mode": {
    "name": "ipython",
    "version": 3
   },
   "file_extension": ".py",
   "mimetype": "text/x-python",
   "name": "python",
   "nbconvert_exporter": "python",
   "pygments_lexer": "ipython3",
   "version": "3.12.4"
  }
 },
 "nbformat": 4,
 "nbformat_minor": 5
}
