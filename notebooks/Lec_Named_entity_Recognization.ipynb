{
 "cells": [
  {
   "cell_type": "code",
   "execution_count": 1,
   "id": "5744323e-abaa-4953-82d3-4cfa319775d3",
   "metadata": {},
   "outputs": [],
   "source": [
    "import nltk"
   ]
  },
  {
   "cell_type": "code",
   "execution_count": 2,
   "id": "c1b08e4b-3ee1-4df5-a0d9-43110d4fb8d0",
   "metadata": {},
   "outputs": [],
   "source": [
    "para = \"\"\"\"Last summer, Emma traveled to Paris to visit the Eiffel Tower. She met her friend Carlos, who had flown in from Spain, and together they explored the Louvre Museum. Later, they enjoyed a delicious dinner at Le Meurice, where the chef was from Italy. On their final day, they planned a trip to Versailles before returning to their homes in New York and Madrid.\"\"\""
   ]
  },
  {
   "cell_type": "code",
   "execution_count": 3,
   "id": "7d2f744d-4219-4ccd-ac65-9684403662da",
   "metadata": {},
   "outputs": [],
   "source": [
    "word_tk = nltk.word_tokenize(para)"
   ]
  },
  {
   "cell_type": "code",
   "execution_count": 4,
   "id": "556b302f-9ff9-4dca-8d6d-28e0a830ee45",
   "metadata": {},
   "outputs": [
    {
     "data": {
      "text/plain": [
       "['``',\n",
       " 'Last',\n",
       " 'summer',\n",
       " ',',\n",
       " 'Emma',\n",
       " 'traveled',\n",
       " 'to',\n",
       " 'Paris',\n",
       " 'to',\n",
       " 'visit',\n",
       " 'the',\n",
       " 'Eiffel',\n",
       " 'Tower',\n",
       " '.',\n",
       " 'She',\n",
       " 'met',\n",
       " 'her',\n",
       " 'friend',\n",
       " 'Carlos',\n",
       " ',',\n",
       " 'who',\n",
       " 'had',\n",
       " 'flown',\n",
       " 'in',\n",
       " 'from',\n",
       " 'Spain',\n",
       " ',',\n",
       " 'and',\n",
       " 'together',\n",
       " 'they',\n",
       " 'explored',\n",
       " 'the',\n",
       " 'Louvre',\n",
       " 'Museum',\n",
       " '.',\n",
       " 'Later',\n",
       " ',',\n",
       " 'they',\n",
       " 'enjoyed',\n",
       " 'a',\n",
       " 'delicious',\n",
       " 'dinner',\n",
       " 'at',\n",
       " 'Le',\n",
       " 'Meurice',\n",
       " ',',\n",
       " 'where',\n",
       " 'the',\n",
       " 'chef',\n",
       " 'was',\n",
       " 'from',\n",
       " 'Italy',\n",
       " '.',\n",
       " 'On',\n",
       " 'their',\n",
       " 'final',\n",
       " 'day',\n",
       " ',',\n",
       " 'they',\n",
       " 'planned',\n",
       " 'a',\n",
       " 'trip',\n",
       " 'to',\n",
       " 'Versailles',\n",
       " 'before',\n",
       " 'returning',\n",
       " 'to',\n",
       " 'their',\n",
       " 'homes',\n",
       " 'in',\n",
       " 'New',\n",
       " 'York',\n",
       " 'and',\n",
       " 'Madrid',\n",
       " '.']"
      ]
     },
     "execution_count": 4,
     "metadata": {},
     "output_type": "execute_result"
    }
   ],
   "source": [
    "word_tk"
   ]
  },
  {
   "cell_type": "code",
   "execution_count": 5,
   "id": "73a33ac6-ebff-4e7c-b5ec-6453e7b6c020",
   "metadata": {},
   "outputs": [],
   "source": [
    "s_w = nltk.corpus.stopwords.words('english')"
   ]
  },
  {
   "cell_type": "code",
   "execution_count": 6,
   "id": "fc2d7b72-109b-4351-aed6-34e2bc492c73",
   "metadata": {},
   "outputs": [
    {
     "data": {
      "text/plain": [
       "['i',\n",
       " 'me',\n",
       " 'my',\n",
       " 'myself',\n",
       " 'we',\n",
       " 'our',\n",
       " 'ours',\n",
       " 'ourselves',\n",
       " 'you',\n",
       " \"you're\",\n",
       " \"you've\",\n",
       " \"you'll\",\n",
       " \"you'd\",\n",
       " 'your',\n",
       " 'yours',\n",
       " 'yourself',\n",
       " 'yourselves',\n",
       " 'he',\n",
       " 'him',\n",
       " 'his',\n",
       " 'himself',\n",
       " 'she',\n",
       " \"she's\",\n",
       " 'her',\n",
       " 'hers',\n",
       " 'herself',\n",
       " 'it',\n",
       " \"it's\",\n",
       " 'its',\n",
       " 'itself',\n",
       " 'they',\n",
       " 'them',\n",
       " 'their',\n",
       " 'theirs',\n",
       " 'themselves',\n",
       " 'what',\n",
       " 'which',\n",
       " 'who',\n",
       " 'whom',\n",
       " 'this',\n",
       " 'that',\n",
       " \"that'll\",\n",
       " 'these',\n",
       " 'those',\n",
       " 'am',\n",
       " 'is',\n",
       " 'are',\n",
       " 'was',\n",
       " 'were',\n",
       " 'be',\n",
       " 'been',\n",
       " 'being',\n",
       " 'have',\n",
       " 'has',\n",
       " 'had',\n",
       " 'having',\n",
       " 'do',\n",
       " 'does',\n",
       " 'did',\n",
       " 'doing',\n",
       " 'a',\n",
       " 'an',\n",
       " 'the',\n",
       " 'and',\n",
       " 'but',\n",
       " 'if',\n",
       " 'or',\n",
       " 'because',\n",
       " 'as',\n",
       " 'until',\n",
       " 'while',\n",
       " 'of',\n",
       " 'at',\n",
       " 'by',\n",
       " 'for',\n",
       " 'with',\n",
       " 'about',\n",
       " 'against',\n",
       " 'between',\n",
       " 'into',\n",
       " 'through',\n",
       " 'during',\n",
       " 'before',\n",
       " 'after',\n",
       " 'above',\n",
       " 'below',\n",
       " 'to',\n",
       " 'from',\n",
       " 'up',\n",
       " 'down',\n",
       " 'in',\n",
       " 'out',\n",
       " 'on',\n",
       " 'off',\n",
       " 'over',\n",
       " 'under',\n",
       " 'again',\n",
       " 'further',\n",
       " 'then',\n",
       " 'once',\n",
       " 'here',\n",
       " 'there',\n",
       " 'when',\n",
       " 'where',\n",
       " 'why',\n",
       " 'how',\n",
       " 'all',\n",
       " 'any',\n",
       " 'both',\n",
       " 'each',\n",
       " 'few',\n",
       " 'more',\n",
       " 'most',\n",
       " 'other',\n",
       " 'some',\n",
       " 'such',\n",
       " 'no',\n",
       " 'nor',\n",
       " 'not',\n",
       " 'only',\n",
       " 'own',\n",
       " 'same',\n",
       " 'so',\n",
       " 'than',\n",
       " 'too',\n",
       " 'very',\n",
       " 's',\n",
       " 't',\n",
       " 'can',\n",
       " 'will',\n",
       " 'just',\n",
       " 'don',\n",
       " \"don't\",\n",
       " 'should',\n",
       " \"should've\",\n",
       " 'now',\n",
       " 'd',\n",
       " 'll',\n",
       " 'm',\n",
       " 'o',\n",
       " 're',\n",
       " 've',\n",
       " 'y',\n",
       " 'ain',\n",
       " 'aren',\n",
       " \"aren't\",\n",
       " 'couldn',\n",
       " \"couldn't\",\n",
       " 'didn',\n",
       " \"didn't\",\n",
       " 'doesn',\n",
       " \"doesn't\",\n",
       " 'hadn',\n",
       " \"hadn't\",\n",
       " 'hasn',\n",
       " \"hasn't\",\n",
       " 'haven',\n",
       " \"haven't\",\n",
       " 'isn',\n",
       " \"isn't\",\n",
       " 'ma',\n",
       " 'mightn',\n",
       " \"mightn't\",\n",
       " 'mustn',\n",
       " \"mustn't\",\n",
       " 'needn',\n",
       " \"needn't\",\n",
       " 'shan',\n",
       " \"shan't\",\n",
       " 'shouldn',\n",
       " \"shouldn't\",\n",
       " 'wasn',\n",
       " \"wasn't\",\n",
       " 'weren',\n",
       " \"weren't\",\n",
       " 'won',\n",
       " \"won't\",\n",
       " 'wouldn',\n",
       " \"wouldn't\"]"
      ]
     },
     "execution_count": 6,
     "metadata": {},
     "output_type": "execute_result"
    }
   ],
   "source": [
    "s_w"
   ]
  },
  {
   "cell_type": "code",
   "execution_count": 9,
   "id": "8ac79d47-f627-43ad-8fce-fd18912aab8c",
   "metadata": {},
   "outputs": [],
   "source": [
    "import string"
   ]
  },
  {
   "cell_type": "code",
   "execution_count": 20,
   "id": "a83a5216-fa1c-4d93-9dcd-6a89eb1536c0",
   "metadata": {},
   "outputs": [
    {
     "data": {
      "text/plain": [
       "['``',\n",
       " 'Last',\n",
       " 'summer',\n",
       " 'Emma',\n",
       " 'traveled',\n",
       " 'Paris',\n",
       " 'visit',\n",
       " 'Eiffel',\n",
       " 'Tower',\n",
       " 'She',\n",
       " 'met',\n",
       " 'friend',\n",
       " 'Carlos',\n",
       " 'flown',\n",
       " 'Spain',\n",
       " 'together',\n",
       " 'explored',\n",
       " 'Louvre',\n",
       " 'Museum',\n",
       " 'Later',\n",
       " 'enjoyed',\n",
       " 'delicious',\n",
       " 'dinner',\n",
       " 'Le',\n",
       " 'Meurice',\n",
       " 'chef',\n",
       " 'Italy',\n",
       " 'On',\n",
       " 'final',\n",
       " 'day',\n",
       " 'planned',\n",
       " 'trip',\n",
       " 'Versailles',\n",
       " 'returning',\n",
       " 'homes',\n",
       " 'New',\n",
       " 'York',\n",
       " 'Madrid']"
      ]
     },
     "execution_count": 20,
     "metadata": {},
     "output_type": "execute_result"
    }
   ],
   "source": [
    "result = []\n",
    "for item in word_tk:\n",
    "    if item not in s_w and item not in string.punctuation:\n",
    "        result.append(item)\n",
    "result"
   ]
  },
  {
   "cell_type": "code",
   "execution_count": 21,
   "id": "5db36bef-7d3f-40e2-92e0-b3be6c6b347f",
   "metadata": {},
   "outputs": [],
   "source": [
    "tag_words = nltk.pos_tag(result)"
   ]
  },
  {
   "cell_type": "code",
   "execution_count": 22,
   "id": "6b59f287-2968-4a64-be22-25097f52ed45",
   "metadata": {},
   "outputs": [
    {
     "data": {
      "text/plain": [
       "[('``', '``'),\n",
       " ('Last', 'JJ'),\n",
       " ('summer', 'NN'),\n",
       " ('Emma', 'NNP'),\n",
       " ('traveled', 'VBD'),\n",
       " ('Paris', 'NNP'),\n",
       " ('visit', 'NN'),\n",
       " ('Eiffel', 'NNP'),\n",
       " ('Tower', 'NNP'),\n",
       " ('She', 'PRP'),\n",
       " ('met', 'VBD'),\n",
       " ('friend', 'NN'),\n",
       " ('Carlos', 'NNP'),\n",
       " ('flown', 'RB'),\n",
       " ('Spain', 'NNP'),\n",
       " ('together', 'RB'),\n",
       " ('explored', 'VBD'),\n",
       " ('Louvre', 'NNP'),\n",
       " ('Museum', 'NNP'),\n",
       " ('Later', 'NNP'),\n",
       " ('enjoyed', 'VBD'),\n",
       " ('delicious', 'JJ'),\n",
       " ('dinner', 'NN'),\n",
       " ('Le', 'NNP'),\n",
       " ('Meurice', 'NNP'),\n",
       " ('chef', 'NN'),\n",
       " ('Italy', 'NNP'),\n",
       " ('On', 'IN'),\n",
       " ('final', 'JJ'),\n",
       " ('day', 'NN'),\n",
       " ('planned', 'VBD'),\n",
       " ('trip', 'NN'),\n",
       " ('Versailles', 'NNP'),\n",
       " ('returning', 'VBG'),\n",
       " ('homes', 'NNS'),\n",
       " ('New', 'NNP'),\n",
       " ('York', 'NNP'),\n",
       " ('Madrid', 'NNP')]"
      ]
     },
     "execution_count": 22,
     "metadata": {},
     "output_type": "execute_result"
    }
   ],
   "source": [
    "tag_words"
   ]
  },
  {
   "cell_type": "code",
   "execution_count": 25,
   "id": "1e9e55f1-e85d-473c-ab0f-0e34461b2a48",
   "metadata": {},
   "outputs": [
    {
     "name": "stderr",
     "output_type": "stream",
     "text": [
      "[nltk_data] Downloading package maxent_ne_chunker to\n",
      "[nltk_data]     C:\\Users\\isatyamks\\AppData\\Roaming\\nltk_data...\n",
      "[nltk_data]   Unzipping chunkers\\maxent_ne_chunker.zip.\n"
     ]
    },
    {
     "data": {
      "text/plain": [
       "True"
      ]
     },
     "execution_count": 25,
     "metadata": {},
     "output_type": "execute_result"
    }
   ],
   "source": [
    "nltk.download('maxent_ne_chunker')"
   ]
  },
  {
   "cell_type": "code",
   "execution_count": 27,
   "id": "2161b47c-27e4-488d-8088-cf9ad207c73d",
   "metadata": {},
   "outputs": [
    {
     "name": "stderr",
     "output_type": "stream",
     "text": [
      "[nltk_data] Downloading package words to\n",
      "[nltk_data]     C:\\Users\\isatyamks\\AppData\\Roaming\\nltk_data...\n",
      "[nltk_data]   Unzipping corpora\\words.zip.\n"
     ]
    },
    {
     "data": {
      "text/plain": [
       "True"
      ]
     },
     "execution_count": 27,
     "metadata": {},
     "output_type": "execute_result"
    }
   ],
   "source": [
    "nltk.download('words')"
   ]
  },
  {
   "cell_type": "code",
   "execution_count": 28,
   "id": "f3a61954-2d93-42f0-8d58-968ef8c27ba4",
   "metadata": {},
   "outputs": [],
   "source": [
    "NOR = nltk.ne_chunk(tag_words)"
   ]
  },
  {
   "cell_type": "code",
   "execution_count": 32,
   "id": "8099b6e8-2a9a-4b38-95be-cd8531305e46",
   "metadata": {},
   "outputs": [],
   "source": [
    "NOR.draw()"
   ]
  },
  {
   "cell_type": "code",
   "execution_count": 30,
   "id": "dd57c6fc-ba22-46dd-abdd-1a2df4506ef7",
   "metadata": {},
   "outputs": [
    {
     "name": "stdout",
     "output_type": "stream",
     "text": [
      "Collecting svgling\n",
      "  Downloading svgling-0.5.0-py3-none-any.whl.metadata (7.4 kB)\n",
      "Collecting svgwrite (from svgling)\n",
      "  Downloading svgwrite-1.4.3-py3-none-any.whl.metadata (8.8 kB)\n",
      "Downloading svgling-0.5.0-py3-none-any.whl (31 kB)\n",
      "Downloading svgwrite-1.4.3-py3-none-any.whl (67 kB)\n",
      "Installing collected packages: svgwrite, svgling\n",
      "Successfully installed svgling-0.5.0 svgwrite-1.4.3\n"
     ]
    }
   ],
   "source": [
    "!pip install svgling\n"
   ]
  },
  {
   "cell_type": "code",
   "execution_count": null,
   "id": "a875d71a-c78a-4172-9b06-8a285496989a",
   "metadata": {},
   "outputs": [],
   "source": []
  }
 ],
 "metadata": {
  "kernelspec": {
   "display_name": "Python 3 (ipykernel)",
   "language": "python",
   "name": "python3"
  },
  "language_info": {
   "codemirror_mode": {
    "name": "ipython",
    "version": 3
   },
   "file_extension": ".py",
   "mimetype": "text/x-python",
   "name": "python",
   "nbconvert_exporter": "python",
   "pygments_lexer": "ipython3",
   "version": "3.12.4"
  }
 },
 "nbformat": 4,
 "nbformat_minor": 5
}
