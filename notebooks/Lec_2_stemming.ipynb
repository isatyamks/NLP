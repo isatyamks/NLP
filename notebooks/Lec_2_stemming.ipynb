{
 "cells": [
  {
   "cell_type": "code",
   "execution_count": 1,
   "id": "39cc3ea8-ce43-4f74-8982-ad70540546b1",
   "metadata": {},
   "outputs": [],
   "source": [
    "#A processing interface for removing morphological affixes from words. This process is known as stemming.\n",
    "#(eating,eaten,eat)------>eat\n",
    "#(going,gone,goes,go)----->go"
   ]
  },
  {
   "cell_type": "code",
   "execution_count": 2,
   "id": "2226d113-1fc5-4236-ace6-21e9bbb9288b",
   "metadata": {},
   "outputs": [],
   "source": [
    "import nltk"
   ]
  },
  {
   "cell_type": "code",
   "execution_count": 6,
   "id": "ba89d619-2a1b-404c-8581-84841b5673f5",
   "metadata": {},
   "outputs": [],
   "source": [
    "stemmer_porter = nltk.stem.PorterStemmer()\n"
   ]
  },
  {
   "cell_type": "code",
   "execution_count": 15,
   "id": "6e8461cc-9ff1-4095-97b4-625cf43763d3",
   "metadata": {},
   "outputs": [
    {
     "name": "stdout",
     "output_type": "stream",
     "text": [
      "['running', 'runner', 'runs', 'easily', 'happiness', 'happily', 'studies', 'study', 'played', 'playing', 'play', 'processed', 'processing', 'processed', 'jumps', 'jumping', 'ran', 'swimming', 'swam', 'fishing', 'fish', 'connected', 'connection', 'connections', 'universities', 'university', 'student', 'students', 'baker', 'baking', 'driving', 'driver', 'driven', 'flies', 'flying', 'analysis', 'analyses', 'tests', 'test', 'taught', 'teach', 'teaching', 'generous', 'generosity', 'cutting', 'cut', 'trying', 'try', 'singer', 'singing', 'sang', 'analysis', 'analytic', 'sportsmanship', 'digitizing', 'digitized', 'processing', 'reorganized', 'organizing']\n"
     ]
    }
   ],
   "source": [
    "words = [\n",
    "    \"running\", \"runner\", \"runs\", \"easily\", \"happiness\", \"happily\", \"studies\", \"study\", \n",
    "    \"played\", \"playing\", \"play\", \"processed\", \"processing\", \"processed\", \"jumps\", \n",
    "    \"jumping\", \"ran\", \"swimming\", \"swam\", \"fishing\", \"fish\", \"connected\", \"connection\", \n",
    "    \"connections\", \"universities\", \"university\", \"student\", \"students\", \"baker\", \"baking\",\n",
    "    \"driving\", \"driver\", \"driven\", \"flies\", \"flying\", \"analysis\", \"analyses\", \"tests\", \n",
    "    \"test\", \"taught\", \"teach\", \"teaching\", \"generous\", \"generosity\", \"cutting\", \"cut\", \n",
    "    \"trying\", \"try\", \"singer\", \"singing\", \"sang\", \"analysis\", \"analytic\", \"sportsmanship\",\n",
    "    \"digitizing\", \"digitized\", \"processing\", \"reorganized\", \"organizing\"\n",
    "]\n",
    "\n",
    "print(words)\n"
   ]
  },
  {
   "cell_type": "code",
   "execution_count": 16,
   "id": "f9ad4ff3-2827-416c-a8ec-ae2c67db8a82",
   "metadata": {},
   "outputs": [
    {
     "name": "stdout",
     "output_type": "stream",
     "text": [
      "['run', 'runner', 'run', 'easili', 'happi', 'happili', 'studi', 'studi', 'play', 'play', 'play', 'process', 'process', 'process', 'jump', 'jump', 'ran', 'swim', 'swam', 'fish', 'fish', 'connect', 'connect', 'connect', 'univers', 'univers', 'student', 'student', 'baker', 'bake', 'drive', 'driver', 'driven', 'fli', 'fli', 'analysi', 'analys', 'test', 'test', 'taught', 'teach', 'teach', 'gener', 'generos', 'cut', 'cut', 'tri', 'tri', 'singer', 'sing', 'sang', 'analysi', 'analyt', 'sportsmanship', 'digit', 'digit', 'process', 'reorgan', 'organ']\n"
     ]
    }
   ],
   "source": [
    "porter_words=[]\n",
    "for word in words:\n",
    "    porter_words.append(stemmer_porter.stem(word))\n",
    "print(porter_words)"
   ]
  },
  {
   "cell_type": "code",
   "execution_count": 24,
   "id": "1b64af92-cb1f-45d8-8e83-f3210054abae",
   "metadata": {},
   "outputs": [],
   "source": [
    "language = \"english\"\n",
    "stemmer_Snowball = nltk.stem.SnowballStemmer(language)"
   ]
  },
  {
   "cell_type": "code",
   "execution_count": 25,
   "id": "6d274820-e8b0-4959-afbd-0b59c20fbc45",
   "metadata": {},
   "outputs": [
    {
     "name": "stdout",
     "output_type": "stream",
     "text": [
      "['run', 'runner', 'run', 'easili', 'happi', 'happili', 'studi', 'studi', 'play', 'play', 'play', 'process', 'process', 'process', 'jump', 'jump', 'ran', 'swim', 'swam', 'fish', 'fish', 'connect', 'connect', 'connect', 'univers', 'univers', 'student', 'student', 'baker', 'bake', 'drive', 'driver', 'driven', 'fli', 'fli', 'analysi', 'analys', 'test', 'test', 'taught', 'teach', 'teach', 'generous', 'generos', 'cut', 'cut', 'tri', 'tri', 'singer', 'sing', 'sang', 'analysi', 'analyt', 'sportsmanship', 'digit', 'digit', 'process', 'reorgan', 'organ']\n"
     ]
    }
   ],
   "source": [
    "Snowball_words=[]\n",
    "for word in words:\n",
    "    Snowball_words.append(stemmer_Snowball.stem(word))\n",
    "print(Snowball_words)"
   ]
  },
  {
   "cell_type": "code",
   "execution_count": 36,
   "id": "d54cc6e5-4f97-4b1c-8d49-542dd2754c4a",
   "metadata": {},
   "outputs": [],
   "source": [
    "lancaster_words = nltk.stem.LancasterStemmer()"
   ]
  },
  {
   "cell_type": "code",
   "execution_count": 37,
   "id": "7a96ac98-b8fa-4e36-b689-7795a87de201",
   "metadata": {},
   "outputs": [
    {
     "name": "stdout",
     "output_type": "stream",
     "text": [
      "['run', 'run', 'run', 'easy', 'happy', 'happy', 'study', 'study', 'play', 'play', 'play', 'process', 'process', 'process', 'jump', 'jump', 'ran', 'swim', 'swam', 'fish', 'fish', 'connect', 'connect', 'connect', 'univers', 'univers', 'stud', 'stud', 'bak', 'bak', 'driv', 'driv', 'driv', 'fli', 'fly', 'analys', 'analys', 'test', 'test', 'taught', 'teach', 'teach', 'gen', 'generos', 'cut', 'cut', 'try', 'try', 'sing', 'sing', 'sang', 'analys', 'analys', 'sportsm', 'digit', 'digit', 'process', 'reorg', 'org']\n"
     ]
    }
   ],
   "source": [
    "Lancaster_words = []\n",
    "for word in words:\n",
    "    Lancaster_words.append(lancaster_words.stem(word))\n",
    "print(Lancaster_words)"
   ]
  },
  {
   "cell_type": "code",
   "execution_count": 38,
   "id": "6a56749b-4342-4484-8eea-7fa3ab61be4d",
   "metadata": {},
   "outputs": [],
   "source": [
    "#now use customizable stemmer using regex"
   ]
  },
  {
   "cell_type": "code",
   "execution_count": null,
   "id": "a6952db8-ad7b-43b0-accf-bae1c84f81ef",
   "metadata": {},
   "outputs": [],
   "source": [
    "stemmer_Regex = RegexpStemmer('ing$|ed$', min=3)"
   ]
  }
 ],
 "metadata": {
  "kernelspec": {
   "display_name": "Python 3 (ipykernel)",
   "language": "python",
   "name": "python3"
  },
  "language_info": {
   "codemirror_mode": {
    "name": "ipython",
    "version": 3
   },
   "file_extension": ".py",
   "mimetype": "text/x-python",
   "name": "python",
   "nbconvert_exporter": "python",
   "pygments_lexer": "ipython3",
   "version": "3.12.4"
  }
 },
 "nbformat": 4,
 "nbformat_minor": 5
}
