{
 "cells": [
  {
   "cell_type": "code",
   "execution_count": null,
   "id": "a0498adf-d988-4949-8128-407451314726",
   "metadata": {},
   "outputs": [],
   "source": [
    "#lets learn about the lemmatization which is kind of similar to stemming but it returns the root words (best for verbs)"
   ]
  },
  {
   "cell_type": "code",
   "execution_count": 2,
   "id": "2d05eac3-3013-4c58-9668-b435fb4e9393",
   "metadata": {},
   "outputs": [],
   "source": [
    "\n",
    "import nltk"
   ]
  },
  {
   "cell_type": "code",
   "execution_count": 3,
   "id": "71f9ca3a-af8b-46d5-9c7a-15539cb67f81",
   "metadata": {},
   "outputs": [],
   "source": [
    "words = [\n",
    "    \"appending\", \"parsing\", \"printing\", \"reading\", \"writing\", \"mapping\", \n",
    "    \"sorting\", \"filtering\", \"executing\", \"iterating\", \"testing\", \n",
    "    \"converting\", \"checking\", \"formatting\", \"logging\", \"hashing\", \n",
    "    \"calculating\", \"encoding\", \"decoding\",\n",
    "    \"written\", \"driven\", \"given\", \"taken\", \"seen\", \"begun\", \n",
    "    \"spoken\", \"chosen\", \"frozen\", \"forgotten\", \"hidden\",\n",
    "    \"opened\", \"closed\", \"executed\", \"loaded\", \"saved\", \n",
    "    \"extracted\", \"rendered\", \"created\", \"updated\", \"deleted\", \n",
    "    \"committed\"\n",
    "]\n"
   ]
  },
  {
   "cell_type": "code",
   "execution_count": 5,
   "id": "9787a8f7-fd58-4abd-acac-984f5c702d25",
   "metadata": {},
   "outputs": [],
   "source": [
    "lemmatizer = nltk.stem.WordNetLemmatizer()"
   ]
  },
  {
   "cell_type": "code",
   "execution_count": 9,
   "id": "7dcb0c18-120c-4706-8010-c4e4bd9a7096",
   "metadata": {},
   "outputs": [
    {
     "data": {
      "text/plain": [
       "'helping'"
      ]
     },
     "execution_count": 9,
     "metadata": {},
     "output_type": "execute_result"
    }
   ],
   "source": [
    "lemmatizer.lemmatize(\"helping\",\"n\")"
   ]
  },
  {
   "cell_type": "code",
   "execution_count": 13,
   "id": "1ebc85ee-22f7-4116-921b-15afc3e04d59",
   "metadata": {},
   "outputs": [
    {
     "name": "stdout",
     "output_type": "stream",
     "text": [
      "appending-------->append\n",
      "parsing-------->parse\n",
      "printing-------->print\n",
      "reading-------->read\n",
      "writing-------->write\n",
      "mapping-------->map\n",
      "sorting-------->sort\n",
      "filtering-------->filter\n",
      "executing-------->execute\n",
      "iterating-------->iterate\n",
      "testing-------->test\n",
      "converting-------->convert\n",
      "checking-------->check\n",
      "formatting-------->format\n",
      "logging-------->log\n",
      "hashing-------->hash\n",
      "calculating-------->calculate\n",
      "encoding-------->encode\n",
      "decoding-------->decode\n",
      "written-------->write\n",
      "driven-------->drive\n",
      "given-------->give\n",
      "taken-------->take\n",
      "seen-------->see\n",
      "begun-------->begin\n",
      "spoken-------->speak\n",
      "chosen-------->choose\n",
      "frozen-------->freeze\n",
      "forgotten-------->forget\n",
      "hidden-------->hide\n",
      "opened-------->open\n",
      "closed-------->close\n",
      "executed-------->execute\n",
      "loaded-------->load\n",
      "saved-------->save\n",
      "extracted-------->extract\n",
      "rendered-------->render\n",
      "created-------->create\n",
      "updated-------->update\n",
      "deleted-------->delete\n",
      "committed-------->commit\n"
     ]
    }
   ],
   "source": [
    "for word in words:\n",
    "    ans = lemmatizer.lemmatize(word,'v')\n",
    "    print(f\"{word}-------->{ans}\")"
   ]
  },
  {
   "cell_type": "code",
   "execution_count": null,
   "id": "dd2c3d6b-0bfa-4cb7-aeb7-30c29ef9a8bb",
   "metadata": {},
   "outputs": [],
   "source": [
    "#great its working fine"
   ]
  }
 ],
 "metadata": {
  "kernelspec": {
   "display_name": "Python 3 (ipykernel)",
   "language": "python",
   "name": "python3"
  },
  "language_info": {
   "codemirror_mode": {
    "name": "ipython",
    "version": 3
   },
   "file_extension": ".py",
   "mimetype": "text/x-python",
   "name": "python",
   "nbconvert_exporter": "python",
   "pygments_lexer": "ipython3",
   "version": "3.12.4"
  }
 },
 "nbformat": 4,
 "nbformat_minor": 5
}
