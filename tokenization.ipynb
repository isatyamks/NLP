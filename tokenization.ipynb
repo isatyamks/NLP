{
 "cells": [
  {
   "cell_type": "code",
   "execution_count": 2,
   "id": "23182dac-5344-4227-9411-01e138bbd8d1",
   "metadata": {},
   "outputs": [],
   "source": [
    "import nltk\n",
    "from nltk.tokenize import word_tokenize\n",
    "from nltk.corpus import stopwords\n",
    "from nltk.stem import WordNetLemmatizer, PorterStemmer\n",
    "from sklearn.feature_extraction.text import CountVectorizer, TfidfVectorizer\n",
    "from gensim.models import Word2Vec\n",
    "import numpy as np"
   ]
  },
  {
   "cell_type": "code",
   "execution_count": 3,
   "id": "8df77a1d-f541-4a7a-b62c-b2d5ae84981d",
   "metadata": {},
   "outputs": [
    {
     "name": "stderr",
     "output_type": "stream",
     "text": [
      "[nltk_data] Downloading package punkt to\n",
      "[nltk_data]     C:\\Users\\isatyamks\\AppData\\Roaming\\nltk_data...\n",
      "[nltk_data]   Package punkt is already up-to-date!\n",
      "[nltk_data] Downloading package stopwords to\n",
      "[nltk_data]     C:\\Users\\isatyamks\\AppData\\Roaming\\nltk_data...\n",
      "[nltk_data]   Package stopwords is already up-to-date!\n",
      "[nltk_data] Downloading package wordnet to\n",
      "[nltk_data]     C:\\Users\\isatyamks\\AppData\\Roaming\\nltk_data...\n"
     ]
    },
    {
     "data": {
      "text/plain": [
       "True"
      ]
     },
     "execution_count": 3,
     "metadata": {},
     "output_type": "execute_result"
    }
   ],
   "source": [
    "nltk.download('punkt')\n",
    "nltk.download('stopwords')\n",
    "nltk.download('wordnet')"
   ]
  },
  {
   "cell_type": "code",
   "execution_count": 4,
   "id": "6c61a141-e18a-430d-9467-24843d95004e",
   "metadata": {},
   "outputs": [],
   "source": [
    "texts = [\n",
    "    \"Natural Language Processing is a fascinating area of AI.\",\n",
    "    \"It involves teaching computers to understand and generate human language.\",\n",
    "    \"Text preprocessing is an essential step in NLP.\"\n",
    "]"
   ]
  },
  {
   "cell_type": "code",
   "execution_count": 7,
   "id": "db10d1ca-aeb8-411d-8d26-4e02e44c5aeb",
   "metadata": {},
   "outputs": [],
   "source": [
    "tokens = [word_tokenize(text.lower()) for text in texts]\n"
   ]
  },
  {
   "cell_type": "code",
   "execution_count": 8,
   "id": "cc8f8154-6ff1-4d6c-88bd-6a8dc4573689",
   "metadata": {},
   "outputs": [
    {
     "data": {
      "text/plain": [
       "[['natural',\n",
       "  'language',\n",
       "  'processing',\n",
       "  'is',\n",
       "  'a',\n",
       "  'fascinating',\n",
       "  'area',\n",
       "  'of',\n",
       "  'ai',\n",
       "  '.'],\n",
       " ['it',\n",
       "  'involves',\n",
       "  'teaching',\n",
       "  'computers',\n",
       "  'to',\n",
       "  'understand',\n",
       "  'and',\n",
       "  'generate',\n",
       "  'human',\n",
       "  'language',\n",
       "  '.'],\n",
       " ['text', 'preprocessing', 'is', 'an', 'essential', 'step', 'in', 'nlp', '.']]"
      ]
     },
     "execution_count": 8,
     "metadata": {},
     "output_type": "execute_result"
    }
   ],
   "source": [
    "tokens"
   ]
  },
  {
   "cell_type": "code",
   "execution_count": 9,
   "id": "26454fee-59d6-4d82-bd62-79b745025116",
   "metadata": {},
   "outputs": [],
   "source": [
    "lemmatizer = WordNetLemmatizer()"
   ]
  },
  {
   "cell_type": "code",
   "execution_count": 10,
   "id": "afc2926c-def2-4544-bde3-170469ef3575",
   "metadata": {},
   "outputs": [
    {
     "data": {
      "text/plain": [
       "<WordNetLemmatizer>"
      ]
     },
     "execution_count": 10,
     "metadata": {},
     "output_type": "execute_result"
    }
   ],
   "source": [
    "lemmatizer"
   ]
  },
  {
   "cell_type": "code",
   "execution_count": 11,
   "id": "16b5712d-3dcb-45f4-986b-d1993b03e6ff",
   "metadata": {},
   "outputs": [],
   "source": [
    "lemmatized = [[lemmatizer.lemmatize(word) for word in token] for token in tokens]\n"
   ]
  },
  {
   "cell_type": "code",
   "execution_count": 12,
   "id": "4dcf027d-1770-4476-b8fc-4dbd27ad6f56",
   "metadata": {},
   "outputs": [
    {
     "data": {
      "text/plain": [
       "[['natural',\n",
       "  'language',\n",
       "  'processing',\n",
       "  'is',\n",
       "  'a',\n",
       "  'fascinating',\n",
       "  'area',\n",
       "  'of',\n",
       "  'ai',\n",
       "  '.'],\n",
       " ['it',\n",
       "  'involves',\n",
       "  'teaching',\n",
       "  'computer',\n",
       "  'to',\n",
       "  'understand',\n",
       "  'and',\n",
       "  'generate',\n",
       "  'human',\n",
       "  'language',\n",
       "  '.'],\n",
       " ['text', 'preprocessing', 'is', 'an', 'essential', 'step', 'in', 'nlp', '.']]"
      ]
     },
     "execution_count": 12,
     "metadata": {},
     "output_type": "execute_result"
    }
   ],
   "source": [
    "lemmatized"
   ]
  },
  {
   "cell_type": "code",
   "execution_count": null,
   "id": "7c0c4528-6b2d-49f7-b7ba-92b8a6036f4a",
   "metadata": {},
   "outputs": [],
   "source": []
  }
 ],
 "metadata": {
  "kernelspec": {
   "display_name": "Python 3 (ipykernel)",
   "language": "python",
   "name": "python3"
  },
  "language_info": {
   "codemirror_mode": {
    "name": "ipython",
    "version": 3
   },
   "file_extension": ".py",
   "mimetype": "text/x-python",
   "name": "python",
   "nbconvert_exporter": "python",
   "pygments_lexer": "ipython3",
   "version": "3.12.4"
  }
 },
 "nbformat": 4,
 "nbformat_minor": 5
}
