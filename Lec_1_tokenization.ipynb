{
 "cells": [
  {
   "cell_type": "code",
   "execution_count": 1,
   "id": "8bcef141-4782-46cf-8ead-decc36cb36e1",
   "metadata": {},
   "outputs": [
    {
     "name": "stdout",
     "output_type": "stream",
     "text": [
      "Requirement already satisfied: nltk in c:\\users\\isatyamks\\appdata\\local\\programs\\python\\python312\\lib\\site-packages (3.8.1)\n",
      "Requirement already satisfied: click in c:\\users\\isatyamks\\appdata\\local\\programs\\python\\python312\\lib\\site-packages (from nltk) (8.1.7)\n",
      "Requirement already satisfied: joblib in c:\\users\\isatyamks\\appdata\\local\\programs\\python\\python312\\lib\\site-packages (from nltk) (1.3.2)\n",
      "Requirement already satisfied: regex>=2021.8.3 in c:\\users\\isatyamks\\appdata\\local\\programs\\python\\python312\\lib\\site-packages (from nltk) (2024.5.15)\n",
      "Requirement already satisfied: tqdm in c:\\users\\isatyamks\\appdata\\local\\programs\\python\\python312\\lib\\site-packages (from nltk) (4.66.4)\n",
      "Requirement already satisfied: colorama in c:\\users\\isatyamks\\appdata\\roaming\\python\\python312\\site-packages (from click->nltk) (0.4.6)\n"
     ]
    }
   ],
   "source": [
    "!pip install nltk\n"
   ]
  },
  {
   "cell_type": "code",
   "execution_count": 46,
   "id": "37390c75-d3d2-4128-a4b1-e9a0cb285bdc",
   "metadata": {},
   "outputs": [],
   "source": [
    "corpus = \"\"\"Hello,I am Satyam Kumar.\n",
    "I'M Machine learning Engineer.\n",
    "I want to work with Nvidea.\"\"\""
   ]
  },
  {
   "cell_type": "code",
   "execution_count": 11,
   "id": "4bbd94c8-1708-4833-883d-107f3f3add2d",
   "metadata": {},
   "outputs": [
    {
     "name": "stdout",
     "output_type": "stream",
     "text": [
      "Hello,I am Satyam Kumar.\n",
      "I am Machine learning Engineer.\n",
      "I want to work with Nvidea.\n"
     ]
    }
   ],
   "source": [
    "print(corpus)"
   ]
  },
  {
   "cell_type": "code",
   "execution_count": 12,
   "id": "94fba7b6-6330-4757-b330-0a4929e0ca62",
   "metadata": {},
   "outputs": [],
   "source": [
    "import nltk"
   ]
  },
  {
   "cell_type": "code",
   "execution_count": 14,
   "id": "cc547bb7-0d2a-4362-9d22-e4f372dfa761",
   "metadata": {},
   "outputs": [
    {
     "data": {
      "text/plain": [
       "['Hello,I am Satyam Kumar.',\n",
       " 'I am Machine learning Engineer.',\n",
       " 'I want to work with Nvidea.']"
      ]
     },
     "execution_count": 14,
     "metadata": {},
     "output_type": "execute_result"
    }
   ],
   "source": [
    "#converting corpus(paragraphs to documents (sentences))\n",
    "\n",
    "nltk.tokenize.sent_tokenize(corpus)"
   ]
  },
  {
   "cell_type": "code",
   "execution_count": 15,
   "id": "f9016505-59a6-4b7b-b10e-d858b61c8f19",
   "metadata": {},
   "outputs": [],
   "source": [
    "#i got a list of 3 items in a list which are sentences\n"
   ]
  },
  {
   "cell_type": "code",
   "execution_count": 16,
   "id": "26c6bb51-eba1-4974-b427-60d51df814d9",
   "metadata": {},
   "outputs": [],
   "source": [
    "documents= nltk.tokenize.sent_tokenize(corpus)"
   ]
  },
  {
   "cell_type": "code",
   "execution_count": 17,
   "id": "2a356f45-57f9-48ad-b6ec-dc194f15d4a9",
   "metadata": {},
   "outputs": [
    {
     "data": {
      "text/plain": [
       "['Hello,I am Satyam Kumar.',\n",
       " 'I am Machine learning Engineer.',\n",
       " 'I want to work with Nvidea.']"
      ]
     },
     "execution_count": 17,
     "metadata": {},
     "output_type": "execute_result"
    }
   ],
   "source": [
    "documents\n"
   ]
  },
  {
   "cell_type": "code",
   "execution_count": 18,
   "id": "990f8eb7-f9d4-4a89-b542-700b46d275d0",
   "metadata": {},
   "outputs": [],
   "source": [
    "#word_tokenize either directly with corpus or with sentences"
   ]
  },
  {
   "cell_type": "code",
   "execution_count": 20,
   "id": "bb5866a1-b932-416f-98b5-75a7504d3ce5",
   "metadata": {},
   "outputs": [],
   "source": [
    "words_from_corpus = nltk.tokenize.word_tokenize(corpus)"
   ]
  },
  {
   "cell_type": "code",
   "execution_count": 21,
   "id": "3114c732-8b6e-4b9d-8256-363331453e7e",
   "metadata": {},
   "outputs": [
    {
     "data": {
      "text/plain": [
       "['Hello',\n",
       " ',',\n",
       " 'I',\n",
       " 'am',\n",
       " 'Satyam',\n",
       " 'Kumar',\n",
       " '.',\n",
       " 'I',\n",
       " 'am',\n",
       " 'Machine',\n",
       " 'learning',\n",
       " 'Engineer',\n",
       " '.',\n",
       " 'I',\n",
       " 'want',\n",
       " 'to',\n",
       " 'work',\n",
       " 'with',\n",
       " 'Nvidea',\n",
       " '.']"
      ]
     },
     "execution_count": 21,
     "metadata": {},
     "output_type": "execute_result"
    }
   ],
   "source": [
    "words_from_corpus"
   ]
  },
  {
   "cell_type": "code",
   "execution_count": 42,
   "id": "79a455b6-8be8-45f8-9a1c-5d8178272865",
   "metadata": {},
   "outputs": [
    {
     "name": "stdout",
     "output_type": "stream",
     "text": [
      "['Hello', ',', 'I', 'am', 'Satyam', 'Kumar', '.']\n",
      "['I', 'am', 'Machine', 'learning', 'Engineer', '.']\n",
      "['I', 'want', 'to', 'work', 'with', 'Nvidea', '.']\n"
     ]
    },
    {
     "data": {
      "text/plain": [
       "['Hello',\n",
       " ',',\n",
       " 'I',\n",
       " 'am',\n",
       " 'Satyam',\n",
       " 'Kumar',\n",
       " '.',\n",
       " 'I',\n",
       " 'am',\n",
       " 'Machine',\n",
       " 'learning',\n",
       " 'Engineer',\n",
       " '.',\n",
       " 'I',\n",
       " 'want',\n",
       " 'to',\n",
       " 'work',\n",
       " 'with',\n",
       " 'Nvidea',\n",
       " '.']"
      ]
     },
     "execution_count": 42,
     "metadata": {},
     "output_type": "execute_result"
    }
   ],
   "source": [
    "temp=[]\n",
    "for i in range (len(documents)):\n",
    "    words_from_documents = nltk.tokenize.word_tokenize(documents[i])\n",
    "    for k in range (len(words_from_documents)):\n",
    "        temp.append(words_from_documents[k])\n",
    "    print(words_from_documents)\n",
    "\n",
    "temp\n"
   ]
  },
  {
   "cell_type": "code",
   "execution_count": 43,
   "id": "79def058-075e-48fb-a583-c75a3023a363",
   "metadata": {},
   "outputs": [
    {
     "name": "stdout",
     "output_type": "stream",
     "text": [
      "True\n"
     ]
    }
   ],
   "source": [
    "if(words_from_corpus==temp):\n",
    "    print(\"True\")\n",
    "else:\n",
    "    print(\"False\")"
   ]
  },
  {
   "cell_type": "code",
   "execution_count": 44,
   "id": "37407748-7dba-4a00-981d-5c5db6c84a9b",
   "metadata": {},
   "outputs": [],
   "source": [
    "#more detailed tokenization by using  tokenize.wordpunct_tokenize"
   ]
  },
  {
   "cell_type": "code",
   "execution_count": 47,
   "id": "4c87c4f3-15e9-4ac8-94d1-4ee818819aae",
   "metadata": {},
   "outputs": [
    {
     "data": {
      "text/plain": [
       "['Hello',\n",
       " ',',\n",
       " 'I',\n",
       " 'am',\n",
       " 'Satyam',\n",
       " 'Kumar',\n",
       " '.',\n",
       " 'I',\n",
       " \"'\",\n",
       " 'M',\n",
       " 'Machine',\n",
       " 'learning',\n",
       " 'Engineer',\n",
       " '.',\n",
       " 'I',\n",
       " 'want',\n",
       " 'to',\n",
       " 'work',\n",
       " 'with',\n",
       " 'Nvidea',\n",
       " '.']"
      ]
     },
     "execution_count": 47,
     "metadata": {},
     "output_type": "execute_result"
    }
   ],
   "source": [
    "nltk.tokenize.wordpunct_tokenize(corpus)"
   ]
  },
  {
   "cell_type": "code",
   "execution_count": 48,
   "id": "c4e4b401-df15-4afd-9ab6-93f17974ae26",
   "metadata": {},
   "outputs": [],
   "source": [
    "# \"'\"   see this magic"
   ]
  },
  {
   "cell_type": "code",
   "execution_count": 49,
   "id": "823e47f9-b397-4afe-953c-13c15041f6f5",
   "metadata": {},
   "outputs": [],
   "source": [
    "#one more tokenizer is treebankwordtokenizer"
   ]
  },
  {
   "cell_type": "code",
   "execution_count": 53,
   "id": "6f5286cd-a4c5-400c-ad76-45b99d247f42",
   "metadata": {},
   "outputs": [
    {
     "data": {
      "text/plain": [
       "['Hello',\n",
       " ',',\n",
       " 'I',\n",
       " 'am',\n",
       " 'Satyam',\n",
       " 'Kumar.',\n",
       " 'I',\n",
       " \"'M\",\n",
       " 'Machine',\n",
       " 'learning',\n",
       " 'Engineer.',\n",
       " 'I',\n",
       " 'want',\n",
       " 'to',\n",
       " 'work',\n",
       " 'with',\n",
       " 'Nvidea',\n",
       " '.']"
      ]
     },
     "execution_count": 53,
     "metadata": {},
     "output_type": "execute_result"
    }
   ],
   "source": [
    "tokenizer = nltk.TreebankWordTokenizer()\n",
    "tokens = tokenizer.tokenize(corpus)\n",
    "tokens"
   ]
  },
  {
   "cell_type": "code",
   "execution_count": 54,
   "id": "aa032fbb-17b9-4902-ba84-2adbb6c7ec53",
   "metadata": {},
   "outputs": [],
   "source": [
    "#'Kumar.', this is the key diff here i can get a word with .(except for last one)"
   ]
  },
  {
   "cell_type": "code",
   "execution_count": null,
   "id": "0d60672a-46a9-49bf-bd7d-e63f366a7a85",
   "metadata": {},
   "outputs": [],
   "source": []
  }
 ],
 "metadata": {
  "kernelspec": {
   "display_name": "Python 3 (ipykernel)",
   "language": "python",
   "name": "python3"
  },
  "language_info": {
   "codemirror_mode": {
    "name": "ipython",
    "version": 3
   },
   "file_extension": ".py",
   "mimetype": "text/x-python",
   "name": "python",
   "nbconvert_exporter": "python",
   "pygments_lexer": "ipython3",
   "version": "3.12.4"
  }
 },
 "nbformat": 4,
 "nbformat_minor": 5
}
