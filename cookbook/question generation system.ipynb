{
 "cells": [
  {
   "cell_type": "code",
   "execution_count": 1,
   "id": "ae7666e4-c122-42a5-906a-f91022dcedf5",
   "metadata": {},
   "outputs": [],
   "source": [
    "import nltk"
   ]
  },
  {
   "cell_type": "code",
   "execution_count": 2,
   "id": "95e8b589-cc8e-4654-8775-9ef02501f858",
   "metadata": {},
   "outputs": [],
   "source": [
    "corpus = (\"Machine learning is a subset of artificial intelligence, empowers systems to analyze data, identify patterns, and make predictions with minimal human intervention. It plays a pivotal role across diverse fields such as healthcare, finance, and technology, driving innovations and efficiency. The discipline is broadly categorized into supervised learning, which involves labeled data; unsupervised learning, which identifies hidden structures in unlabeled data; and reinforcement learning, which optimizes decisions through trial and error.\")"
   ]
  },
  {
   "cell_type": "code",
   "execution_count": 15,
   "id": "d759cf0a-8b3c-47b3-8713-5aeac6ae58ff",
   "metadata": {},
   "outputs": [],
   "source": [
    "stop_words = nltk.corpus.stopwords.words()"
   ]
  },
  {
   "cell_type": "code",
   "execution_count": 9,
   "id": "daa8c2a9-123a-4fb5-acf0-10e2b0757e1a",
   "metadata": {},
   "outputs": [],
   "source": [
    "words_tk = nltk.tokenize.word_tokenize(corpus)"
   ]
  },
  {
   "cell_type": "code",
   "execution_count": 11,
   "id": "ce9502e7-3a61-47b0-a203-179b98ee5e7b",
   "metadata": {},
   "outputs": [
    {
     "data": {
      "text/plain": [
       "['Machine',\n",
       " 'learning',\n",
       " 'is',\n",
       " 'a',\n",
       " 'subset',\n",
       " 'of',\n",
       " 'artificial',\n",
       " 'intelligence',\n",
       " ',',\n",
       " 'empowers',\n",
       " 'systems',\n",
       " 'to',\n",
       " 'analyze',\n",
       " 'data',\n",
       " ',',\n",
       " 'identify',\n",
       " 'patterns',\n",
       " ',',\n",
       " 'and',\n",
       " 'make',\n",
       " 'predictions',\n",
       " 'with',\n",
       " 'minimal',\n",
       " 'human',\n",
       " 'intervention',\n",
       " '.',\n",
       " 'It',\n",
       " 'plays',\n",
       " 'a',\n",
       " 'pivotal',\n",
       " 'role',\n",
       " 'across',\n",
       " 'diverse',\n",
       " 'fields',\n",
       " 'such',\n",
       " 'as',\n",
       " 'healthcare',\n",
       " ',',\n",
       " 'finance',\n",
       " ',',\n",
       " 'and',\n",
       " 'technology',\n",
       " ',',\n",
       " 'driving',\n",
       " 'innovations',\n",
       " 'and',\n",
       " 'efficiency',\n",
       " '.',\n",
       " 'The',\n",
       " 'discipline',\n",
       " 'is',\n",
       " 'broadly',\n",
       " 'categorized',\n",
       " 'into',\n",
       " 'supervised',\n",
       " 'learning',\n",
       " ',',\n",
       " 'which',\n",
       " 'involves',\n",
       " 'labeled',\n",
       " 'data',\n",
       " ';',\n",
       " 'unsupervised',\n",
       " 'learning',\n",
       " ',',\n",
       " 'which',\n",
       " 'identifies',\n",
       " 'hidden',\n",
       " 'structures',\n",
       " 'in',\n",
       " 'unlabeled',\n",
       " 'data',\n",
       " ';',\n",
       " 'and',\n",
       " 'reinforcement',\n",
       " 'learning',\n",
       " ',',\n",
       " 'which',\n",
       " 'optimizes',\n",
       " 'decisions',\n",
       " 'through',\n",
       " 'trial',\n",
       " 'and',\n",
       " 'error',\n",
       " '.']"
      ]
     },
     "execution_count": 11,
     "metadata": {},
     "output_type": "execute_result"
    }
   ],
   "source": [
    "words_tk\n"
   ]
  },
  {
   "cell_type": "code",
   "execution_count": 16,
   "id": "8c099170-d5af-485d-9c6a-6b3ad2d6e30f",
   "metadata": {},
   "outputs": [],
   "source": [
    "result_words_tk=[]\n",
    "for item in words_tk:\n",
    "    if item not in stop_words and item not in string.punctuatu:\n",
    "        result_words_tk.append(item)\n",
    "        "
   ]
  },
  {
   "cell_type": "code",
   "execution_count": 17,
   "id": "c0a34909-cd5f-455f-a78d-b760db894c7f",
   "metadata": {},
   "outputs": [
    {
     "data": {
      "text/plain": [
       "['Machine',\n",
       " 'learning',\n",
       " 'subset',\n",
       " 'artificial',\n",
       " 'intelligence',\n",
       " ',',\n",
       " 'empowers',\n",
       " 'systems',\n",
       " 'analyze',\n",
       " 'data',\n",
       " ',',\n",
       " 'identify',\n",
       " 'patterns',\n",
       " ',',\n",
       " 'make',\n",
       " 'predictions',\n",
       " 'minimal',\n",
       " 'human',\n",
       " 'intervention',\n",
       " '.',\n",
       " 'It',\n",
       " 'plays',\n",
       " 'pivotal',\n",
       " 'role',\n",
       " 'diverse',\n",
       " 'fields',\n",
       " 'healthcare',\n",
       " ',',\n",
       " 'finance',\n",
       " ',',\n",
       " 'technology',\n",
       " ',',\n",
       " 'driving',\n",
       " 'innovations',\n",
       " 'efficiency',\n",
       " '.',\n",
       " 'The',\n",
       " 'discipline',\n",
       " 'broadly',\n",
       " 'categorized',\n",
       " 'supervised',\n",
       " 'learning',\n",
       " ',',\n",
       " 'involves',\n",
       " 'labeled',\n",
       " 'data',\n",
       " ';',\n",
       " 'unsupervised',\n",
       " 'learning',\n",
       " ',',\n",
       " 'identifies',\n",
       " 'hidden',\n",
       " 'structures',\n",
       " 'unlabeled',\n",
       " 'data',\n",
       " ';',\n",
       " 'reinforcement',\n",
       " 'learning',\n",
       " ',',\n",
       " 'optimizes',\n",
       " 'decisions',\n",
       " 'trial',\n",
       " 'error',\n",
       " '.']"
      ]
     },
     "execution_count": 17,
     "metadata": {},
     "output_type": "execute_result"
    }
   ],
   "source": [
    "result_words_tk"
   ]
  },
  {
   "cell_type": "code",
   "execution_count": null,
   "id": "e9b5d76b-9341-474a-a841-39e2e81fe85e",
   "metadata": {},
   "outputs": [],
   "source": []
  },
  {
   "cell_type": "code",
   "execution_count": null,
   "id": "1acc0727-72e4-4d9f-b4a9-ba716d38e93c",
   "metadata": {},
   "outputs": [],
   "source": [
    "def preprocess_text(text):\n",
    "    \"\"\"Tokenizes the text into sentences and cleans each sentence.\"\"\"\n",
    "    sentences = sent_tokenize(text)\n",
    "    stop_words = set(stopwords.words('english'))\n",
    "    clean_sentences = []\n",
    "\n",
    "    for sentence in sentences:\n",
    "        words = word_tokenize(sentence)\n",
    "        filtered_words = [word for word in words if word.lower() not in stop_words and word not in string.punctuation]\n",
    "        clean_sentences.append(' '.join(filtered_words))\n",
    "\n",
    "    return sentences, clean_sentences"
   ]
  }
 ],
 "metadata": {
  "kernelspec": {
   "display_name": "Python 3 (ipykernel)",
   "language": "python",
   "name": "python3"
  },
  "language_info": {
   "codemirror_mode": {
    "name": "ipython",
    "version": 3
   },
   "file_extension": ".py",
   "mimetype": "text/x-python",
   "name": "python",
   "nbconvert_exporter": "python",
   "pygments_lexer": "ipython3",
   "version": "3.12.3"
  }
 },
 "nbformat": 4,
 "nbformat_minor": 5
}
