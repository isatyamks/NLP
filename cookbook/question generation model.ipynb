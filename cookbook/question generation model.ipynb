{
 "cells": [
  {
   "cell_type": "code",
   "execution_count": 1,
   "id": "ae7666e4-c122-42a5-906a-f91022dcedf5",
   "metadata": {},
   "outputs": [],
   "source": [
    "import nltk"
   ]
  },
  {
   "cell_type": "code",
   "execution_count": 2,
   "id": "95e8b589-cc8e-4654-8775-9ef02501f858",
   "metadata": {},
   "outputs": [],
   "source": [
    "corpus = (\"Machine learning is a subset of artificial intelligence, empowers systems to analyze data, identify patterns, and make predictions with minimal human intervention. It plays a pivotal role across diverse fields such as healthcare, finance, and technology, driving innovations and efficiency. The discipline is broadly categorized into supervised learning, which involves labeled data; unsupervised learning, which identifies hidden structures in unlabeled data; and reinforcement learning, which optimizes decisions through trial and error.\")"
   ]
  },
  {
   "cell_type": "code",
   "execution_count": 3,
   "id": "d759cf0a-8b3c-47b3-8713-5aeac6ae58ff",
   "metadata": {},
   "outputs": [],
   "source": [
    "stop_words = nltk.corpus.stopwords.words()"
   ]
  },
  {
   "cell_type": "code",
   "execution_count": 4,
   "id": "daa8c2a9-123a-4fb5-acf0-10e2b0757e1a",
   "metadata": {},
   "outputs": [],
   "source": [
    "words_tk = nltk.tokenize.word_tokenize(corpus)"
   ]
  },
  {
   "cell_type": "code",
   "execution_count": 5,
   "id": "ce9502e7-3a61-47b0-a203-179b98ee5e7b",
   "metadata": {},
   "outputs": [
    {
     "data": {
      "text/plain": [
       "['Machine',\n",
       " 'learning',\n",
       " 'is',\n",
       " 'a',\n",
       " 'subset',\n",
       " 'of',\n",
       " 'artificial',\n",
       " 'intelligence',\n",
       " ',',\n",
       " 'empowers',\n",
       " 'systems',\n",
       " 'to',\n",
       " 'analyze',\n",
       " 'data',\n",
       " ',',\n",
       " 'identify',\n",
       " 'patterns',\n",
       " ',',\n",
       " 'and',\n",
       " 'make',\n",
       " 'predictions',\n",
       " 'with',\n",
       " 'minimal',\n",
       " 'human',\n",
       " 'intervention',\n",
       " '.',\n",
       " 'It',\n",
       " 'plays',\n",
       " 'a',\n",
       " 'pivotal',\n",
       " 'role',\n",
       " 'across',\n",
       " 'diverse',\n",
       " 'fields',\n",
       " 'such',\n",
       " 'as',\n",
       " 'healthcare',\n",
       " ',',\n",
       " 'finance',\n",
       " ',',\n",
       " 'and',\n",
       " 'technology',\n",
       " ',',\n",
       " 'driving',\n",
       " 'innovations',\n",
       " 'and',\n",
       " 'efficiency',\n",
       " '.',\n",
       " 'The',\n",
       " 'discipline',\n",
       " 'is',\n",
       " 'broadly',\n",
       " 'categorized',\n",
       " 'into',\n",
       " 'supervised',\n",
       " 'learning',\n",
       " ',',\n",
       " 'which',\n",
       " 'involves',\n",
       " 'labeled',\n",
       " 'data',\n",
       " ';',\n",
       " 'unsupervised',\n",
       " 'learning',\n",
       " ',',\n",
       " 'which',\n",
       " 'identifies',\n",
       " 'hidden',\n",
       " 'structures',\n",
       " 'in',\n",
       " 'unlabeled',\n",
       " 'data',\n",
       " ';',\n",
       " 'and',\n",
       " 'reinforcement',\n",
       " 'learning',\n",
       " ',',\n",
       " 'which',\n",
       " 'optimizes',\n",
       " 'decisions',\n",
       " 'through',\n",
       " 'trial',\n",
       " 'and',\n",
       " 'error',\n",
       " '.']"
      ]
     },
     "execution_count": 5,
     "metadata": {},
     "output_type": "execute_result"
    }
   ],
   "source": [
    "words_tk\n"
   ]
  },
  {
   "cell_type": "code",
   "execution_count": 6,
   "id": "b752f0cd-5e19-4e04-b6d1-797bf7b7c643",
   "metadata": {},
   "outputs": [],
   "source": [
    "sentences = nltk.tokenize.sent_tokenize(corpus)"
   ]
  },
  {
   "cell_type": "code",
   "execution_count": 7,
   "id": "80dcd5b0-0301-4642-912d-a5eea959bcd8",
   "metadata": {},
   "outputs": [
    {
     "data": {
      "text/plain": [
       "(['Machine learning is a subset of artificial intelligence, empowers systems to analyze data, identify patterns, and make predictions with minimal human intervention.',\n",
       "  'It plays a pivotal role across diverse fields such as healthcare, finance, and technology, driving innovations and efficiency.',\n",
       "  'The discipline is broadly categorized into supervised learning, which involves labeled data; unsupervised learning, which identifies hidden structures in unlabeled data; and reinforcement learning, which optimizes decisions through trial and error.'],\n",
       " 3)"
      ]
     },
     "execution_count": 7,
     "metadata": {},
     "output_type": "execute_result"
    }
   ],
   "source": [
    "sentences,len(sentences)"
   ]
  },
  {
   "cell_type": "code",
   "execution_count": 8,
   "id": "dfbce4c1-3495-4163-ba14-6eaa48bf2ce7",
   "metadata": {},
   "outputs": [],
   "source": [
    "import string"
   ]
  },
  {
   "cell_type": "code",
   "execution_count": 9,
   "id": "8c099170-d5af-485d-9c6a-6b3ad2d6e30f",
   "metadata": {},
   "outputs": [],
   "source": [
    "clean_sentences = []\n",
    "\n",
    "for item in sentences:\n",
    "    words = item.split()  \n",
    "    filtered_words = [\n",
    "        word for word in words      \n",
    "        if word.lower() not in stop_words and word not in string.punctuation   #joined by word by word rather than by filter out just a simple hack\n",
    "    ]\n",
    "    clean_sentences.append(' '.join(filtered_words))\n"
   ]
  },
  {
   "cell_type": "code",
   "execution_count": 10,
   "id": "45f7849e-41ed-48e8-8002-aa1f60c8dd0c",
   "metadata": {},
   "outputs": [
    {
     "data": {
      "text/plain": [
       "(['Machine learning subset artificial intelligence, empowers systems analyze data, identify patterns, make predictions minimal human intervention.',\n",
       "  'plays pivotal role diverse fields healthcare, finance, technology, driving innovations efficiency.',\n",
       "  'discipline broadly categorized supervised learning, involves labeled data; unsupervised learning, identifies hidden structures unlabeled data; reinforcement learning, optimizes decisions trial error.'],\n",
       " 3)"
      ]
     },
     "execution_count": 10,
     "metadata": {},
     "output_type": "execute_result"
    }
   ],
   "source": [
    "clean_sentences,len(clean_sentences)"
   ]
  },
  {
   "cell_type": "code",
   "execution_count": 11,
   "id": "c0a34909-cd5f-455f-a78d-b760db894c7f",
   "metadata": {},
   "outputs": [
    {
     "data": {
      "text/plain": [
       "['discipline',\n",
       " 'broadly',\n",
       " 'categorized',\n",
       " 'supervised',\n",
       " 'learning,',\n",
       " 'involves',\n",
       " 'labeled',\n",
       " 'data;',\n",
       " 'unsupervised',\n",
       " 'learning,',\n",
       " 'identifies',\n",
       " 'hidden',\n",
       " 'structures',\n",
       " 'unlabeled',\n",
       " 'data;',\n",
       " 'reinforcement',\n",
       " 'learning,',\n",
       " 'optimizes',\n",
       " 'decisions',\n",
       " 'trial',\n",
       " 'error.']"
      ]
     },
     "execution_count": 11,
     "metadata": {},
     "output_type": "execute_result"
    }
   ],
   "source": [
    "filtered_words"
   ]
  },
  {
   "cell_type": "code",
   "execution_count": 12,
   "id": "4b748325-f051-4692-9625-56e1d72e8b79",
   "metadata": {},
   "outputs": [
    {
     "name": "stdout",
     "output_type": "stream",
     "text": [
      "Machine learning is a subset of artificial intelligence, empowers systems to analyze data, identify patterns, and make predictions with minimal human intervention.------>Machine learning subset artificial intelligence, empowers systems analyze data, identify patterns, make predictions minimal human intervention.\n",
      "\n",
      "\n",
      "It plays a pivotal role across diverse fields such as healthcare, finance, and technology, driving innovations and efficiency.------>plays pivotal role diverse fields healthcare, finance, technology, driving innovations efficiency.\n",
      "\n",
      "\n",
      "The discipline is broadly categorized into supervised learning, which involves labeled data; unsupervised learning, which identifies hidden structures in unlabeled data; and reinforcement learning, which optimizes decisions through trial and error.------>discipline broadly categorized supervised learning, involves labeled data; unsupervised learning, identifies hidden structures unlabeled data; reinforcement learning, optimizes decisions trial error.\n",
      "\n",
      "\n"
     ]
    }
   ],
   "source": [
    "for i in range(len(sentences)):\n",
    "    print(f\"{sentences[i]}------>{clean_sentences[i]}\")\n",
    "    print(\"\\n\")"
   ]
  },
  {
   "cell_type": "code",
   "execution_count": 13,
   "id": "e9b5d76b-9341-474a-a841-39e2e81fe85e",
   "metadata": {},
   "outputs": [],
   "source": [
    "from sklearn.feature_extraction.text import CountVectorizer\n",
    "\n",
    "import matplotlib.pyplot as plt"
   ]
  },
  {
   "cell_type": "code",
   "execution_count": 14,
   "id": "1acc0727-72e4-4d9f-b4a9-ba716d38e93c",
   "metadata": {},
   "outputs": [],
   "source": [
    "vectorizer = CountVectorizer(max_features=10)\n"
   ]
  },
  {
   "cell_type": "code",
   "execution_count": 15,
   "id": "af674d9e-ced5-4983-be58-9463a685a76c",
   "metadata": {},
   "outputs": [],
   "source": [
    "count_matrix = vectorizer.fit_transform(sentences)\n",
    "\n"
   ]
  },
  {
   "cell_type": "code",
   "execution_count": 16,
   "id": "b55e2815-412c-4f92-a692-999abd7fac97",
   "metadata": {},
   "outputs": [
    {
     "data": {
      "text/plain": [
       "array(['and', 'data', 'is', 'learning', 'machine', 'make', 'minimal',\n",
       "       'to', 'unsupervised', 'which'], dtype=object)"
      ]
     },
     "execution_count": 16,
     "metadata": {},
     "output_type": "execute_result"
    }
   ],
   "source": [
    "keywords = vectorizer.get_feature_names_out()\n",
    "keywords"
   ]
  },
  {
   "cell_type": "code",
   "execution_count": 17,
   "id": "7a40dbbb-cf35-4a81-a454-65978820aed9",
   "metadata": {},
   "outputs": [
    {
     "data": {
      "text/plain": [
       "array([5, 3, 2, 4, 1, 1, 1, 1, 1, 3], dtype=int64)"
      ]
     },
     "execution_count": 17,
     "metadata": {},
     "output_type": "execute_result"
    }
   ],
   "source": [
    "frequencies = count_matrix.toarray().sum(axis=0) \n",
    "frequencies"
   ]
  },
  {
   "cell_type": "code",
   "execution_count": 18,
   "id": "64c4c67d-1ee0-4e7c-9968-25e08a8c9d85",
   "metadata": {},
   "outputs": [
    {
     "data": {
      "image/png": "[encoded data removed]",
      "text/plain": [
       "<Figure size 1000x600 with 1 Axes>"
      ]
     },
     "metadata": {},
     "output_type": "display_data"
    }
   ],
   "source": [
    "plt.figure(figsize=(10, 6))\n",
    "plt.barh(keywords, frequencies, color='orange')\n",
    "plt.xlabel('Frequency')\n",
    "plt.ylabel('Keywords')\n",
    "plt.title('max frequencies by the model')\n",
    "plt.gca().invert_yaxis()  \n",
    "plt.show()"
   ]
  },
  {
   "cell_type": "code",
   "execution_count": 37,
   "id": "ace320d2-0b9b-4871-a701-a14fb6e6f598",
   "metadata": {},
   "outputs": [
    {
     "data": {
      "text/plain": [
       "[('The', 'DT'),\n",
       " ('discipline', 'NN'),\n",
       " ('is', 'VBZ'),\n",
       " ('broadly', 'RB'),\n",
       " ('categorized', 'VBN'),\n",
       " ('into', 'IN'),\n",
       " ('supervised', 'VBN'),\n",
       " ('learning,', 'NN'),\n",
       " ('which', 'WDT'),\n",
       " ('involves', 'VBZ'),\n",
       " ('labeled', 'VBD'),\n",
       " ('data;', 'NN'),\n",
       " ('unsupervised', 'JJ'),\n",
       " ('learning,', 'NN'),\n",
       " ('which', 'WDT'),\n",
       " ('identifies', 'VBZ'),\n",
       " ('hidden', 'JJ'),\n",
       " ('structures', 'NNS'),\n",
       " ('in', 'IN'),\n",
       " ('unlabeled', 'JJ'),\n",
       " ('data;', 'NN'),\n",
       " ('and', 'CC'),\n",
       " ('reinforcement', 'NN'),\n",
       " ('learning,', 'NN'),\n",
       " ('which', 'WDT'),\n",
       " ('optimizes', 'VBZ'),\n",
       " ('decisions', 'NNS'),\n",
       " ('through', 'IN'),\n",
       " ('trial', 'NN'),\n",
       " ('and', 'CC'),\n",
       " ('error.', 'NN')]"
      ]
     },
     "execution_count": 37,
     "metadata": {},
     "output_type": "execute_result"
    }
   ],
   "source": [
    "pos_tags = nltk.pos_tag(words)\n",
    "pos_tags"
   ]
  },
  {
   "cell_type": "code",
   "execution_count": 87,
   "id": "60c34d99-4a93-4a38-a82c-fb365dc98506",
   "metadata": {},
   "outputs": [],
   "source": [
    "questions = []\n",
    "for i, (word, tag) in enumerate(pos_tags):\n",
    "    if tag == 'NN':\n",
    "        question = sentences[i].replace(word, f\"What is {word}?\")\n",
    "        questions.append(question)\n",
    "        break\n",
    "\n",
    "    if pos_tags[0][1].startswith('JJ'):\n",
    "        question = f\"How does {sentence}?\"\n",
    "        questions.append(question)"
   ]
  },
  {
   "cell_type": "code",
   "execution_count": 88,
   "id": "7664befb-57ff-4a47-9344-cf18c6cc0bd9",
   "metadata": {},
   "outputs": [
    {
     "data": {
      "text/plain": [
       "['It plays a pivotal role across diverse fields such as healthcare, finance, and technology, driving innovations and efficiency.']"
      ]
     },
     "execution_count": 88,
     "metadata": {},
     "output_type": "execute_result"
    }
   ],
   "source": [
    "questions"
   ]
  },
  {
   "cell_type": "code",
   "execution_count": 74,
   "id": "6779173a-9642-42ec-ba0c-a60a5a525a71",
   "metadata": {},
   "outputs": [
    {
     "name": "stdout",
     "output_type": "stream",
     "text": [
      "['Machine', 'learning', 'is', 'a', 'subset', 'of', 'artificial', 'intelligence', ',', 'empowers', 'systems', 'to', 'analyze', 'data', ',', 'identify', 'patterns', ',', 'and', 'make', 'predictions', 'with', 'minimal', 'human', 'intervention', '.']\n"
     ]
    }
   ],
   "source": [
    "print(nltk.word_tokenize(sentences[0]))"
   ]
  },
  {
   "cell_type": "code",
   "execution_count": 75,
   "id": "816e3ab6-b101-4ac3-995d-23f12ad58ed3",
   "metadata": {},
   "outputs": [
    {
     "name": "stdout",
     "output_type": "stream",
     "text": [
      "['Machine', 'learning', 'is', 'a', 'subset', 'of', 'artificial', 'intelligence', ',', 'empowers', 'systems', 'to', 'analyze', 'data', ',', 'identify', 'patterns', ',', 'and', 'make', 'predictions', 'with', 'minimal', 'human', 'intervention', '.']\n",
      "What is Machine? learning is a subset of artificial intelligence, empowers systems to analyze data, identify patterns, and make predictions with minimal human intervention.\n",
      "['What is Machine? learning is a subset of artificial intelligence, empowers systems to analyze data, identify patterns, and make predictions with minimal human intervention.']\n",
      "['It', 'plays', 'a', 'pivotal', 'role', 'across', 'diverse', 'fields', 'such', 'as', 'healthcare', ',', 'finance', ',', 'and', 'technology', ',', 'driving', 'innovations', 'and', 'efficiency', '.']\n",
      "It plays a pivotal What is role? across diverse fields such as healthcare, finance, and technology, driving innovations and efficiency.\n",
      "['It plays a pivotal What is role? across diverse fields such as healthcare, finance, and technology, driving innovations and efficiency.']\n",
      "['The', 'discipline', 'is', 'broadly', 'categorized', 'into', 'supervised', 'learning', ',', 'which', 'involves', 'labeled', 'data', ';', 'unsupervised', 'learning', ',', 'which', 'identifies', 'hidden', 'structures', 'in', 'unlabeled', 'data', ';', 'and', 'reinforcement', 'learning', ',', 'which', 'optimizes', 'decisions', 'through', 'trial', 'and', 'error', '.']\n",
      "The What is discipline? is broadly categorized into supervised learning, which involves labeled data; unsupervised learning, which identifies hidden structures in unlabeled data; and reinforcement learning, which optimizes decisions through trial and error.\n",
      "['The What is discipline? is broadly categorized into supervised learning, which involves labeled data; unsupervised learning, which identifies hidden structures in unlabeled data; and reinforcement learning, which optimizes decisions through trial and error.']\n"
     ]
    }
   ],
   "source": [
    "for item in sentences:\n",
    "    questions = generate_questions(item)\n",
    "    print(questions)"
   ]
  },
  {
   "cell_type": "code",
   "execution_count": null,
   "id": "c1eef88c-a11a-4c8e-85d1-4491f2892376",
   "metadata": {},
   "outputs": [],
   "source": []
  },
  {
   "cell_type": "code",
   "execution_count": null,
   "id": "a2c7c73e-3f60-497c-802b-a3f66d953e0e",
   "metadata": {},
   "outputs": [],
   "source": []
  },
  {
   "cell_type": "code",
   "execution_count": null,
   "id": "6a5a48b2-1ad7-4107-80af-8c2483b30836",
   "metadata": {},
   "outputs": [],
   "source": []
  }
 ],
 "metadata": {
  "kernelspec": {
   "display_name": "Python 3 (ipykernel)",
   "language": "python",
   "name": "python3"
  },
  "language_info": {
   "codemirror_mode": {
    "name": "ipython",
    "version": 3
   },
   "file_extension": ".py",
   "mimetype": "text/x-python",
   "name": "python",
   "nbconvert_exporter": "python",
   "pygments_lexer": "ipython3",
   "version": "3.12.3"
  }
 },
 "nbformat": 4,
 "nbformat_minor": 5
}
