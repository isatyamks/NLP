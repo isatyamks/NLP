{
 "cells": [
  {
   "cell_type": "code",
   "execution_count": 1,
   "id": "17bdab53-c90a-4eb6-b6ae-c69a40ae3b55",
   "metadata": {},
   "outputs": [],
   "source": [
    "import numpy as np\n",
    "import matplotlib.pyplot as plt "
   ]
  },
  {
   "cell_type": "code",
   "execution_count": 2,
   "id": "006c1a11-ee63-4f15-a077-294d2a1ab4d5",
   "metadata": {},
   "outputs": [],
   "source": [
    "training_data = [\n",
    "    \"I am satyam from planet Earth\",\n",
    "    \"here to search for you]\",\n",
    "    \"what i am writing here\"\n",
    "]\n"
   ]
  },
  {
   "cell_type": "code",
   "execution_count": 3,
   "id": "17bd9f14-2e61-4778-acc7-65733abe0685",
   "metadata": {},
   "outputs": [],
   "source": [
    "# def tokenization(text):\n",
    "#     text=text.lower()\n",
    "#     text = text.translate(str.maketrans('', '', string.punctuation))\n",
    "#     tokens = text.split()\n",
    "#     # print(f\"Tokenizing text: '{text}' -> {tokens}\")\n",
    "#     return tokens\n",
    "\n",
    "def tokenization(text):\n",
    "    if isinstance(text, str):  \n",
    "        text = text.lower() \n",
    "        text = text.translate(str.maketrans('', '', string.punctuation))  \n",
    "        tokens = text.split() \n",
    "    else:\n",
    "        raise ValueError(\"Input must be a string, not a list\")  \n",
    "    return tokens"
   ]
  },
  {
   "cell_type": "code",
   "execution_count": 4,
   "id": "44c6a664-8cdd-4127-bb7b-a7f3c3ced9a7",
   "metadata": {},
   "outputs": [],
   "source": [
    "def build_vocabulary(data):\n",
    "    vocab = set()\n",
    "    for sentence in data:\n",
    "        vocab.update(tokenization(sentence))\n",
    "    vocab = sorted(vocab)\n",
    "    return vocab"
   ]
  },
  {
   "cell_type": "code",
   "execution_count": 5,
   "id": "1df32a25-6a22-4ddf-baa6-ce2a238a006f",
   "metadata": {},
   "outputs": [
    {
     "ename": "NameError",
     "evalue": "name 'string' is not defined",
     "output_type": "error",
     "traceback": [
      "\u001b[1;31m---------------------------------------------------------------------------\u001b[0m",
      "\u001b[1;31mNameError\u001b[0m                                 Traceback (most recent call last)",
      "Cell \u001b[1;32mIn[5], line 1\u001b[0m\n\u001b[1;32m----> 1\u001b[0m \u001b[43mtokenization\u001b[49m\u001b[43m(\u001b[49m\u001b[43mtraining_data\u001b[49m\u001b[43m[\u001b[49m\u001b[38;5;241;43m1\u001b[39;49m\u001b[43m]\u001b[49m\u001b[43m)\u001b[49m\n",
      "Cell \u001b[1;32mIn[3], line 11\u001b[0m, in \u001b[0;36mtokenization\u001b[1;34m(text)\u001b[0m\n\u001b[0;32m      9\u001b[0m \u001b[38;5;28;01mif\u001b[39;00m \u001b[38;5;28misinstance\u001b[39m(text, \u001b[38;5;28mstr\u001b[39m):  \n\u001b[0;32m     10\u001b[0m     text \u001b[38;5;241m=\u001b[39m text\u001b[38;5;241m.\u001b[39mlower() \n\u001b[1;32m---> 11\u001b[0m     text \u001b[38;5;241m=\u001b[39m text\u001b[38;5;241m.\u001b[39mtranslate(\u001b[38;5;28mstr\u001b[39m\u001b[38;5;241m.\u001b[39mmaketrans(\u001b[38;5;124m'\u001b[39m\u001b[38;5;124m'\u001b[39m, \u001b[38;5;124m'\u001b[39m\u001b[38;5;124m'\u001b[39m, \u001b[43mstring\u001b[49m\u001b[38;5;241m.\u001b[39mpunctuation))  \n\u001b[0;32m     12\u001b[0m     tokens \u001b[38;5;241m=\u001b[39m text\u001b[38;5;241m.\u001b[39msplit() \n\u001b[0;32m     13\u001b[0m \u001b[38;5;28;01melse\u001b[39;00m:\n",
      "\u001b[1;31mNameError\u001b[0m: name 'string' is not defined"
     ]
    }
   ],
   "source": [
    "\n",
    "tokenization(training_data[1])"
   ]
  },
  {
   "cell_type": "code",
   "execution_count": null,
   "id": "ce367a65-8e64-46f5-921c-a41060bcc472",
   "metadata": {},
   "outputs": [],
   "source": [
    "\n",
    "build_vocabulary(training_data)\n"
   ]
  },
  {
   "cell_type": "code",
   "execution_count": null,
   "id": "ef8903e1-7192-4e16-bde4-737f3b9c68d4",
   "metadata": {},
   "outputs": [],
   "source": [
    "def text_to_vector(text, vocab):\n",
    "    tokenized = tokenization(text)\n",
    "    vector = [1 if word in tokenized else 0 for word in vocab]\n",
    "    return np.array(vector)"
   ]
  },
  {
   "cell_type": "code",
   "execution_count": null,
   "id": "e8178a05-2212-402a-b885-bc196ebe62b1",
   "metadata": {},
   "outputs": [],
   "source": [
    "vocabulary = build_vocabulary(training_data)"
   ]
  },
  {
   "cell_type": "code",
   "execution_count": null,
   "id": "59ae78d2-6fdd-4b36-8367-729d3e27bfb8",
   "metadata": {},
   "outputs": [],
   "source": [
    "temp2 = tokenization(training_data[1])"
   ]
  },
  {
   "cell_type": "code",
   "execution_count": null,
   "id": "83710d93-7479-4ec6-94e4-212d0f9f1df0",
   "metadata": {},
   "outputs": [],
   "source": [
    "text_to_vector(temp2,vocabulary)"
   ]
  },
  {
   "cell_type": "code",
   "execution_count": null,
   "id": "cbfaeca0-cc53-4396-a943-2cc58b4704bf",
   "metadata": {},
   "outputs": [],
   "source": [
    "training_vectors = [text_to_vector(sentence, vocabulary) for sentence in training_data]"
   ]
  },
  {
   "cell_type": "code",
   "execution_count": null,
   "id": "6d337010-ca14-4b33-9a5e-70c2f3b54ba6",
   "metadata": {},
   "outputs": [],
   "source": [
    "training_vectors"
   ]
  },
  {
   "cell_type": "code",
   "execution_count": null,
   "id": "7421513e-a2be-4eaa-b807-d5cd5077641d",
   "metadata": {},
   "outputs": [],
   "source": [
    "def cosine_similarity(vec1, vec2):\n",
    "    dot_product = np.dot(vec1, vec2)\n",
    "    magnitude = np.linalg.norm(vec1) * np.linalg.norm(vec2)\n",
    "    if magnitude == 0:\n",
    "        return 0  \n",
    "    return dot_product / magnitude"
   ]
  },
  {
   "cell_type": "code",
   "execution_count": null,
   "id": "dc144b58-a2ed-40b6-a71d-0bf18d68a99b",
   "metadata": {},
   "outputs": [],
   "source": [
    "plt.figure(figsize=(10, 6))\n",
    "\n",
    "\n",
    "\n",
    "for i, vec in enumerate(training_vectors):\n",
    "    plt.bar(range(len(vocabulary)), vec, alpha=0.7, label=training_data[i])\n",
    "plt.xticks(range(len(vocabulary)), vocabulary, rotation=45)\n",
    "\n",
    "plt.title(\"Training Data Vectors\")\n",
    "\n",
    "\n",
    "\n",
    "plt.xlabel(\"Vocabulary Words\")\n",
    "plt.ylabel(\"Presence (1 or 0)\")\n",
    "\n",
    "plt.legend()\n",
    "\n",
    "plt.show()\n"
   ]
  },
  {
   "cell_type": "code",
   "execution_count": null,
   "id": "2e67cb28-4eb9-48c3-9481-3132a77b979f",
   "metadata": {},
   "outputs": [],
   "source": []
  },
  {
   "cell_type": "code",
   "execution_count": null,
   "id": "e5ed2868-c851-4c9f-8591-fbafadde843b",
   "metadata": {},
   "outputs": [],
   "source": []
  }
 ],
 "metadata": {
  "kernelspec": {
   "display_name": "Python 3 (ipykernel)",
   "language": "python",
   "name": "python3"
  },
  "language_info": {
   "codemirror_mode": {
    "name": "ipython",
    "version": 3
   },
   "file_extension": ".py",
   "mimetype": "text/x-python",
   "name": "python",
   "nbconvert_exporter": "python",
   "pygments_lexer": "ipython3",
   "version": "3.12.4"
  }
 },
 "nbformat": 4,
 "nbformat_minor": 5
}
