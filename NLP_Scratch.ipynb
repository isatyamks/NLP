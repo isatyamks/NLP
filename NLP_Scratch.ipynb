{
 "cells": [
  {
   "cell_type": "code",
   "execution_count": 3,
   "id": "17bdab53-c90a-4eb6-b6ae-c69a40ae3b55",
   "metadata": {},
   "outputs": [],
   "source": [
    "import numpy as np\n",
    "import matplotlib.pyplot as plt "
   ]
  },
  {
   "cell_type": "code",
   "execution_count": 6,
   "id": "006c1a11-ee63-4f15-a077-294d2a1ab4d5",
   "metadata": {},
   "outputs": [],
   "source": [
    "training_data = [\n",
    "    \"Python is a programming language\",\n",
    "    \"Machine learning is a subset of AI\",\n",
    "    \"Natural language processing deals with text data\"\n",
    "]\n"
   ]
  },
  {
   "cell_type": "code",
   "execution_count": 7,
   "id": "17bd9f14-2e61-4778-acc7-65733abe0685",
   "metadata": {},
   "outputs": [],
   "source": [
    "def tokenization(text):\n",
    "    text=text.lower()\n",
    "    tokens=text.split()\n",
    "    print(f\"Tokenizing text: '{text}' -> {tokens}\")\n",
    "    return tokens"
   ]
  },
  {
   "cell_type": "code",
   "execution_count": null,
   "id": "44c6a664-8cdd-4127-bb7b-a7f3c3ced9a7",
   "metadata": {},
   "outputs": [],
   "source": [
    "def build_vocabulary(data):\n",
    "\n",
    "    vocab = set()\n",
    "    for sentence in data:\n",
    "        vocab.update(tokenize())\n",
    "    "
   ]
  },
  {
   "cell_type": "code",
   "execution_count": null,
   "id": "1df32a25-6a22-4ddf-baa6-ce2a238a006f",
   "metadata": {},
   "outputs": [],
   "source": []
  },
  {
   "cell_type": "code",
   "execution_count": 8,
   "id": "ce367a65-8e64-46f5-921c-a41060bcc472",
   "metadata": {},
   "outputs": [
    {
     "ename": "NameError",
     "evalue": "name 'build_vocabulary' is not defined",
     "output_type": "error",
     "traceback": [
      "\u001b[1;31m---------------------------------------------------------------------------\u001b[0m",
      "\u001b[1;31mNameError\u001b[0m                                 Traceback (most recent call last)",
      "Cell \u001b[1;32mIn[8], line 1\u001b[0m\n\u001b[1;32m----> 1\u001b[0m vocabulary \u001b[38;5;241m=\u001b[39m \u001b[43mbuild_vocabulary\u001b[49m(training_data)\n",
      "\u001b[1;31mNameError\u001b[0m: name 'build_vocabulary' is not defined"
     ]
    }
   ],
   "source": [
    "\n",
    "vocabulary = build_vocabulary(training_data)\n"
   ]
  },
  {
   "cell_type": "code",
   "execution_count": null,
   "id": "ef8903e1-7192-4e16-bde4-737f3b9c68d4",
   "metadata": {},
   "outputs": [],
   "source": []
  }
 ],
 "metadata": {
  "kernelspec": {
   "display_name": "Python 3 (ipykernel)",
   "language": "python",
   "name": "python3"
  },
  "language_info": {
   "codemirror_mode": {
    "name": "ipython",
    "version": 3
   },
   "file_extension": ".py",
   "mimetype": "text/x-python",
   "name": "python",
   "nbconvert_exporter": "python",
   "pygments_lexer": "ipython3",
   "version": "3.12.4"
  }
 },
 "nbformat": 4,
 "nbformat_minor": 5
}
